{
 "cells": [
  {
   "cell_type": "markdown",
   "id": "b4c92509",
   "metadata": {},
   "source": [
    "# Natural Language Proccessing Model"
   ]
  },
  {
   "cell_type": "markdown",
   "id": "3925e4eb",
   "metadata": {},
   "source": [
    "## Import libraries"
   ]
  },
  {
   "cell_type": "code",
   "execution_count": null,
   "id": "7d5b77df",
   "metadata": {},
   "outputs": [],
   "source": [
    "import numpy as np\n",
    "import pandas as pd\n",
    "from sklearn.model_selection import train_test_split\n",
    "from sklearn.feature_extraction.text import CountVectorizer\n",
    "from sklearn.naive_bayes import MultinomialNB\n",
    "from sklearn.pipeline import make_pipeline\n",
    "from sklearn.metrics import accuracy_score"
   ]
  },
  {
   "cell_type": "markdown",
   "id": "dc3b61bc",
   "metadata": {},
   "source": [
    "## Read the CSV File"
   ]
  },
  {
   "cell_type": "code",
   "execution_count": null,
   "id": "54819621",
   "metadata": {},
   "outputs": [],
   "source": [
    "phrases = pd.read_csv(\"Enter your csv file\")"
   ]
  },
  {
   "cell_type": "markdown",
   "id": "98fdfd7f",
   "metadata": {},
   "source": [
    "## Split & Creating new CSV Files"
   ]
  },
  {
   "cell_type": "code",
   "execution_count": null,
   "id": "a346a07d",
   "metadata": {
    "scrolled": true
   },
   "outputs": [],
   "source": [
    "train_phrases, test_phrases = train_test_split(phrases, train_size=0.7, random_state=42)\n",
    "\n",
    "train_phrases.to_csv('train_phrases.csv', index=False)\n",
    "test_phrases.to_csv('test_phrases.csv', index=False)"
   ]
  },
  {
   "cell_type": "markdown",
   "id": "9d557686",
   "metadata": {},
   "source": [
    "## Load the train & testing data"
   ]
  },
  {
   "cell_type": "code",
   "execution_count": null,
   "id": "d00c1589",
   "metadata": {},
   "outputs": [],
   "source": [
    "X_train_text=train_phrases['input']\n",
    "X_test_text=test_phrases['input']\n",
    "\n",
    "Y_train_label=train_phrases['labels']\n",
    "Y_test_label=test_phrases['labels']"
   ]
  },
  {
   "cell_type": "markdown",
   "id": "9f141a54",
   "metadata": {},
   "source": [
    "## Training supervised learing model for text data\n"
   ]
  },
  {
   "cell_type": "code",
   "execution_count": null,
   "id": "f972f83f",
   "metadata": {
    "scrolled": true
   },
   "outputs": [],
   "source": [
    "vectorizer_v1 = CountVectorizer(min_df=10)\n",
    "vectorizer_v1.fit(X_train_text)\n",
    "X_train_v1 = vectorizer_v1.transform(X_train_text)\n",
    "X_train_v1"
   ]
  },
  {
   "cell_type": "markdown",
   "id": "1743c671",
   "metadata": {},
   "source": [
    "## Build a Prediction Pipeline"
   ]
  },
  {
   "cell_type": "code",
   "execution_count": null,
   "id": "e1766626",
   "metadata": {},
   "outputs": [],
   "source": [
    "model_v1=MultinomialNB() \n",
    "\n",
    "model_v1.fit(X_train_v1, Y_train_label)"
   ]
  },
  {
   "cell_type": "code",
   "execution_count": null,
   "id": "81dfa59e",
   "metadata": {},
   "outputs": [],
   "source": [
    "prediction_pipeline_v1 = make_pipeline(vectorizer_v1, model_v1) "
   ]
  },
  {
   "cell_type": "code",
   "execution_count": null,
   "id": "81fac128",
   "metadata": {},
   "outputs": [],
   "source": [
    "predictions_v1 = prediction_pipeline_v1.predict(X_test_text)\n",
    "predictions_v1"
   ]
  },
  {
   "cell_type": "markdown",
   "id": "eb63eb89",
   "metadata": {},
   "source": [
    "## Accuracy Score"
   ]
  },
  {
   "cell_type": "code",
   "execution_count": null,
   "id": "1852c2ec",
   "metadata": {},
   "outputs": [],
   "source": [
    "accuracy_score(Y_test_label, predictions_v1)"
   ]
  }
 ],
 "metadata": {
  "kernelspec": {
   "display_name": "Python 3 (ipykernel)",
   "language": "python",
   "name": "python3"
  },
  "language_info": {
   "codemirror_mode": {
    "name": "ipython",
    "version": 3
   },
   "file_extension": ".py",
   "mimetype": "text/x-python",
   "name": "python",
   "nbconvert_exporter": "python",
   "pygments_lexer": "ipython3",
   "version": "3.9.13"
  }
 },
 "nbformat": 4,
 "nbformat_minor": 5
}
